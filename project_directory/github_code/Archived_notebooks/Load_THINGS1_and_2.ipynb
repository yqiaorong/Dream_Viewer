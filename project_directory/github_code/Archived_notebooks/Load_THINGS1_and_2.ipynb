{
 "cells": [
  {
   "cell_type": "markdown",
   "id": "f744089e-7f9f-4284-bc77-42aa0f067973",
   "metadata": {
    "tags": []
   },
   "source": [
    "### The main objective for this notebook is to load THINGS1 and THINGS2 raw eeg data so that having a better idea of THINGS eeg preprocessing, which then can be used to train the encoding model on THINGS EEG2 and to test the model on THINGS EEG1."
   ]
  },
  {
   "cell_type": "code",
   "execution_count": 1,
   "id": "5143cf17-9bdf-4bb8-bd7a-dd9284d1f8d2",
   "metadata": {
    "tags": []
   },
   "outputs": [],
   "source": [
    "import os\n",
    "import pandas as pd"
   ]
  },
  {
   "cell_type": "markdown",
   "id": "c2ff913b-508b-4125-ab55-29500d39f4f8",
   "metadata": {
    "jp-MarkdownHeadingCollapsed": true,
    "tags": []
   },
   "source": [
    "### 1. Load THINGS EEG1 subject meta data"
   ]
  },
  {
   "cell_type": "code",
   "execution_count": 2,
   "id": "96d3761e-c42c-4388-b187-6fe1ddeabb95",
   "metadata": {
    "tags": []
   },
   "outputs": [],
   "source": [
    "# Load THINGS EEG1 subject1 metadata\n",
    "subj = 1\n",
    "project_dir = os.path.join('D:/','UG','Research','Dream_Lab','Dream_Decoding','project_directory')\n",
    "TH1_dir = os.path.join(project_dir,'eeg_dataset','wake_data','THINGS_EEG1','raw_data','sub-'+format(subj,'02'))\n",
    "dfcsv = pd.read_csv(os.path.join(TH1_dir,'eeg','sub-'+format(subj,'02')+'_task-rsvp_events.csv'))\n",
    "dftsv = pd.read_csv(os.path.join(TH1_dir,'eeg','sub-'+format(subj,'02')+'_task-rsvp_events.tsv'), delimiter='\\t')"
   ]
  },
  {
   "cell_type": "code",
   "execution_count": 3,
   "id": "768dfac3-4d7a-4b03-b33c-46b62fe7d722",
   "metadata": {
    "tags": []
   },
   "outputs": [
    {
     "data": {
      "text/plain": [
       "Index(['eventnumber', 'objectnumber', 'object', 'sequencenumber',\n",
       "       'presentationnumber', 'blocksequencenumber', 'withinsequencenumber',\n",
       "       'stimnumber', 'stim', 'istarget', 'stimname', 'response', 'rt',\n",
       "       'correct', 'time_stimon', 'time_stimoff', 'stimdur'],\n",
       "      dtype='object')"
      ]
     },
     "execution_count": 3,
     "metadata": {},
     "output_type": "execute_result"
    }
   ],
   "source": [
    "# Load the column names of metadata csv\n",
    "dfcsv.columns"
   ]
  },
  {
   "cell_type": "code",
   "execution_count": 4,
   "id": "e34523e3-a2f6-4423-9d92-36a20f255123",
   "metadata": {
    "tags": []
   },
   "outputs": [
    {
     "data": {
      "text/plain": [
       "Index(['onset', 'duration', 'eventnumber', 'objectnumber', 'object',\n",
       "       'sequencenumber', 'presentationnumber', 'blocksequencenumber',\n",
       "       'withinsequencenumber', 'stimnumber', 'stim', 'istarget', 'stimname',\n",
       "       'response', 'rt', 'correct', 'time_stimon', 'time_stimoff', 'stimdur',\n",
       "       'sample'],\n",
       "      dtype='object')"
      ]
     },
     "execution_count": 4,
     "metadata": {},
     "output_type": "execute_result"
    }
   ],
   "source": [
    "# Load the column names of metadata tsv\n",
    "dftsv.columns"
   ]
  },
  {
   "cell_type": "code",
   "execution_count": 5,
   "id": "38580698-6787-4825-8a63-f74d7133a8e0",
   "metadata": {
    "tags": []
   },
   "outputs": [
    {
     "name": "stdout",
     "output_type": "stream",
     "text": [
      "The number of training images 22248\n"
     ]
    }
   ],
   "source": [
    "# Select only training 22248 images\n",
    "dftsv = dftsv[:22248]\n",
    "# Check the number of training events\n",
    "print('The number of training images', len(dftsv))"
   ]
  },
  {
   "cell_type": "code",
   "execution_count": 6,
   "id": "0da3d8e6-9183-4bc3-8f36-083557f43a1c",
   "metadata": {
    "tags": []
   },
   "outputs": [
    {
     "data": {
      "text/plain": [
       "Index(['onset', 'object', 'objectnumber', 'presentationnumber',\n",
       "       'sequencenumber', 'stimname'],\n",
       "      dtype='object')"
      ]
     },
     "execution_count": 6,
     "metadata": {},
     "output_type": "execute_result"
    }
   ],
   "source": [
    "# Select events relevant information\n",
    "dftsv = dftsv[['onset','object','objectnumber','presentationnumber','sequencenumber','stimname']] \n",
    "# Check the column names \n",
    "dftsv.columns"
   ]
  },
  {
   "cell_type": "markdown",
   "id": "4eb56944-ef13-4cc8-b40b-c05dfe2bc22e",
   "metadata": {
    "tags": []
   },
   "source": [
    "### 2. Load THINGS EEG1 subject EEG data"
   ]
  },
  {
   "cell_type": "code",
   "execution_count": 7,
   "id": "c96e4368-29ab-4724-856e-397d9f97d706",
   "metadata": {
    "tags": []
   },
   "outputs": [
    {
     "name": "stdout",
     "output_type": "stream",
     "text": [
      "Extracting parameters from D:/UG\\Research\\Dream_Lab\\Dream_Decoding\\project_directory\\eeg_dataset\\wake_data\\THINGS_EEG1\\raw_data\\sub-01\\eeg\\sub-01_task-rsvp_eeg.vhdr...\n",
      "Setting channel info structure...\n",
      "Reading 0 ... 3035739  =      0.000 ...  3035.739 secs...\n"
     ]
    }
   ],
   "source": [
    "import mne\n",
    "# Load THINGS EEG1 subject1 raw eeg data\n",
    "TH1_EEG_dir = os.path.join(TH1_dir,'eeg','sub-'+format(subj,'02')+'_task-rsvp_eeg.vhdr')\n",
    "raw1 = mne.io.read_raw_brainvision(TH1_EEG_dir, preload=True)"
   ]
  },
  {
   "cell_type": "code",
   "execution_count": 8,
   "id": "f9c6c53e-ce2e-4c35-b040-d6fb2d03a34b",
   "metadata": {
    "tags": []
   },
   "outputs": [
    {
     "data": {
      "text/html": [
       "<table class=\"table table-hover table-striped table-sm table-responsive small\">\n",
       "    <tr>\n",
       "        <th>Measurement date</th>\n",
       "        \n",
       "        <td>February 22, 2019  14:39:19 GMT</td>\n",
       "        \n",
       "    </tr>\n",
       "    <tr>\n",
       "        <th>Experimenter</th>\n",
       "        \n",
       "        <td>Unknown</td>\n",
       "        \n",
       "    </tr>\n",
       "        <th>Participant</th>\n",
       "        \n",
       "        <td>Unknown</td>\n",
       "        \n",
       "    </tr>\n",
       "    <tr>\n",
       "        <th>Digitized points</th>\n",
       "        \n",
       "        <td>66 points</td>\n",
       "        \n",
       "    </tr>\n",
       "    <tr>\n",
       "        <th>Good channels</th>\n",
       "        <td>63 EEG</td>\n",
       "    </tr>\n",
       "    <tr>\n",
       "        <th>Bad channels</th>\n",
       "        <td>None</td>\n",
       "    </tr>\n",
       "    <tr>\n",
       "        <th>EOG channels</th>\n",
       "        <td>Not available</td>\n",
       "    </tr>\n",
       "    <tr>\n",
       "        <th>ECG channels</th>\n",
       "        <td>Not available</td>\n",
       "    \n",
       "    <tr>\n",
       "        <th>Sampling frequency</th>\n",
       "        <td>1000.00 Hz</td>\n",
       "    </tr>\n",
       "    \n",
       "    \n",
       "    <tr>\n",
       "        <th>Highpass</th>\n",
       "        <td>0.00 Hz</td>\n",
       "    </tr>\n",
       "    \n",
       "    \n",
       "    <tr>\n",
       "        <th>Lowpass</th>\n",
       "        <td>280.00 Hz</td>\n",
       "    </tr>\n",
       "    \n",
       "    \n",
       "</table>"
      ],
      "text/plain": [
       "<Info | 8 non-empty values\n",
       " bads: []\n",
       " ch_names: Fp1, Fz, F3, F7, FT9, FC5, FC1, C3, T7, TP9, CP5, CP1, Pz, P3, ...\n",
       " chs: 63 EEG\n",
       " custom_ref_applied: False\n",
       " dig: 66 items (3 Cardinal, 63 EEG)\n",
       " highpass: 0.0 Hz\n",
       " lowpass: 280.0 Hz\n",
       " meas_date: 2019-02-22 14:39:19 UTC\n",
       " nchan: 63\n",
       " projs: []\n",
       " sfreq: 1000.0 Hz\n",
       ">"
      ]
     },
     "execution_count": 8,
     "metadata": {},
     "output_type": "execute_result"
    }
   ],
   "source": [
    "raw1.info"
   ]
  },
  {
   "cell_type": "markdown",
   "id": "7e5feb38-f0d7-426f-ab89-a7428d00ed38",
   "metadata": {
    "tags": []
   },
   "source": [
    "#### 1) Pick up occipital channels"
   ]
  },
  {
   "cell_type": "code",
   "execution_count": 9,
   "id": "fc6cb243-00f9-425a-8374-63d0072b842a",
   "metadata": {
    "tags": []
   },
   "outputs": [
    {
     "name": "stdout",
     "output_type": "stream",
     "text": [
      "['Fp1', 'Fz', 'F3', 'F7', 'FT9', 'FC5', 'FC1', 'C3', 'T7', 'TP9', 'CP5', 'CP1', 'Pz', 'P3', 'P7', 'O1', 'Oz', 'O2', 'P4', 'P8', 'TP10', 'CP6', 'CP2', 'C4', 'T8', 'FT10', 'FC6', 'FC2', 'F4', 'F8', 'Fp2', 'AF7', 'AF3', 'AFz', 'F1', 'F5', 'FT7', 'FC3', 'C1', 'C5', 'TP7', 'CP3', 'P1', 'P5', 'PO7', 'PO3', 'POz', 'PO4', 'PO8', 'P6', 'P2', 'CPz', 'CP4', 'TP8', 'C6', 'C2', 'FC4', 'FT8', 'F6', 'AF8', 'AF4', 'F2', 'FCz']\n"
     ]
    }
   ],
   "source": [
    "print(raw1.info['ch_names'])"
   ]
  },
  {
   "cell_type": "code",
   "execution_count": 10,
   "id": "dead0a09-e866-47c2-9eea-cda279ab8b0d",
   "metadata": {
    "tags": []
   },
   "outputs": [
    {
     "name": "stdout",
     "output_type": "stream",
     "text": [
      "['Fp1', 'Fz', 'F3', 'F7', 'FT9', 'FC5', 'FC1', 'C3', 'T7', 'TP9', 'CP5', 'CP1', 'Pz', 'P3', 'P7', 'O1', 'Oz', 'O2', 'P4', 'P8', 'TP10', 'CP6', 'CP2', 'C4', 'T8', 'FT10', 'FC6', 'FC2', 'F4', 'F8', 'Fp2', 'AF7', 'AF3', 'AFz', 'F1', 'F5', 'FT7', 'FC3', 'C1', 'C5', 'TP7', 'CP3', 'P1', 'P5', 'PO7', 'PO3', 'POz', 'PO4', 'PO8', 'P6', 'P2', 'CPz', 'CP4', 'TP8', 'C6', 'C2', 'FC4', 'FT8', 'F6', 'AF8', 'AF4', 'F2', 'FCz']\n"
     ]
    }
   ],
   "source": [
    "if subj in [49, 50]:\n",
    "    raw1 = raw1.pick(raw1.info['ch_names'][:63])\n",
    "else:\n",
    "    pass\n",
    "# Double check channel names\n",
    "print(raw1.info['ch_names'])"
   ]
  },
  {
   "cell_type": "code",
   "execution_count": 11,
   "id": "efe9b9f7-5014-4102-9c0d-9bc9feaacadd",
   "metadata": {
    "tags": []
   },
   "outputs": [
    {
     "name": "stdout",
     "output_type": "stream",
     "text": [
      "Picked occipital channels are:\n",
      "[12 13 14 15 16 17 18 19 42 43 44 45 46 47 48 49 50]\n",
      "['Pz', 'P3', 'P7', 'O1', 'Oz', 'O2', 'P4', 'P8', 'P1', 'P5', 'PO7', 'PO3', 'POz', 'PO4', 'PO8', 'P6', 'P2']\n",
      "The total number of picked occipital channels:  17\n"
     ]
    }
   ],
   "source": [
    "# Pick up occipital channels\n",
    "import numpy as np\n",
    "\n",
    "chan_idx = np.asarray(mne.pick_channels_regexp(raw1.info['ch_names'],'^O *|^P *'))\n",
    "print('Picked occipital channels are:')\n",
    "print(chan_idx)\n",
    "new_chans = [raw1.info['ch_names'][c] for c in chan_idx]\n",
    "print(new_chans)\n",
    "print('The total number of picked occipital channels: ', len(new_chans))"
   ]
  },
  {
   "cell_type": "code",
   "execution_count": 12,
   "id": "72e4b12d-f0e2-4af6-aa07-e24cbb7f880a",
   "metadata": {
    "tags": []
   },
   "outputs": [
    {
     "data": {
      "text/html": [
       "<table class=\"table table-hover table-striped table-sm table-responsive small\">\n",
       "    <tr>\n",
       "        <th>Measurement date</th>\n",
       "        \n",
       "        <td>February 22, 2019  14:39:19 GMT</td>\n",
       "        \n",
       "    </tr>\n",
       "    <tr>\n",
       "        <th>Experimenter</th>\n",
       "        \n",
       "        <td>Unknown</td>\n",
       "        \n",
       "    </tr>\n",
       "        <th>Participant</th>\n",
       "        \n",
       "        <td>Unknown</td>\n",
       "        \n",
       "    </tr>\n",
       "    <tr>\n",
       "        <th>Digitized points</th>\n",
       "        \n",
       "        <td>66 points</td>\n",
       "        \n",
       "    </tr>\n",
       "    <tr>\n",
       "        <th>Good channels</th>\n",
       "        <td>17 EEG</td>\n",
       "    </tr>\n",
       "    <tr>\n",
       "        <th>Bad channels</th>\n",
       "        <td>None</td>\n",
       "    </tr>\n",
       "    <tr>\n",
       "        <th>EOG channels</th>\n",
       "        <td>Not available</td>\n",
       "    </tr>\n",
       "    <tr>\n",
       "        <th>ECG channels</th>\n",
       "        <td>Not available</td>\n",
       "    \n",
       "    <tr>\n",
       "        <th>Sampling frequency</th>\n",
       "        <td>1000.00 Hz</td>\n",
       "    </tr>\n",
       "    \n",
       "    \n",
       "    <tr>\n",
       "        <th>Highpass</th>\n",
       "        <td>0.00 Hz</td>\n",
       "    </tr>\n",
       "    \n",
       "    \n",
       "    <tr>\n",
       "        <th>Lowpass</th>\n",
       "        <td>280.00 Hz</td>\n",
       "    </tr>\n",
       "    \n",
       "    \n",
       "    \n",
       "    <tr>\n",
       "        <th>Filenames</th>\n",
       "        <td>sub-01_task-rsvp_eeg.eeg</td>\n",
       "    </tr>\n",
       "    \n",
       "    <tr>\n",
       "        <th>Duration</th>\n",
       "        <td>00:50:36 (HH:MM:SS)</td>\n",
       "    </tr>\n",
       "</table>"
      ],
      "text/plain": [
       "<RawBrainVision | sub-01_task-rsvp_eeg.eeg, 17 x 3035740 (3035.7 s), ~393.8 MB, data loaded>"
      ]
     },
     "execution_count": 12,
     "metadata": {},
     "output_type": "execute_result"
    }
   ],
   "source": [
    "# Pick occipital channels\n",
    "raw1.pick(new_chans)"
   ]
  },
  {
   "cell_type": "markdown",
   "id": "b2c040a8-6b29-48d4-b334-d22c06e4dc8a",
   "metadata": {
    "tags": []
   },
   "source": [
    "#### 2) Create annotations"
   ]
  },
  {
   "cell_type": "code",
   "execution_count": 13,
   "id": "9f064890-ad46-4065-9541-339e0d821efa",
   "metadata": {
    "tags": []
   },
   "outputs": [],
   "source": [
    "onset = dftsv['onset'] # in seconds\n",
    "duration = [0.05]*len(dftsv) # in seconds, too"
   ]
  },
  {
   "cell_type": "code",
   "execution_count": 14,
   "id": "8e733820-1523-49ae-be8d-e84b763cf675",
   "metadata": {
    "tags": []
   },
   "outputs": [
    {
     "name": "stdout",
     "output_type": "stream",
     "text": [
      "<Annotations | 22248 segments: images (22248)>\n"
     ]
    }
   ],
   "source": [
    "# Create annotations\n",
    "my_annot = mne.Annotations(onset=onset, duration=duration, description=['images']*len(dftsv))\n",
    "# Check annotations\n",
    "print(my_annot)"
   ]
  },
  {
   "cell_type": "code",
   "execution_count": 15,
   "id": "a3006bd9-d3d9-4a2a-a257-a3402333a5e2",
   "metadata": {
    "tags": []
   },
   "outputs": [
    {
     "name": "stdout",
     "output_type": "stream",
     "text": [
      "<Annotations | 22248 segments: images (22248)>\n"
     ]
    }
   ],
   "source": [
    "raw1.set_annotations(my_annot)\n",
    "print(raw1.annotations)"
   ]
  },
  {
   "cell_type": "code",
   "execution_count": 16,
   "id": "264661b1-7f89-4393-a6e5-e933851c0597",
   "metadata": {
    "tags": []
   },
   "outputs": [
    {
     "name": "stdout",
     "output_type": "stream",
     "text": [
      "Used Annotations descriptions: ['images']\n",
      "{'images': 10001}\n"
     ]
    }
   ],
   "source": [
    "# Create events\n",
    "events, event_ids = mne.events_from_annotations(raw1)\n",
    "# Check events\n",
    "print(event_ids) # The first column is the idx of samples in raw data"
   ]
  },
  {
   "cell_type": "markdown",
   "id": "d3dade9d-5a85-4732-8b71-5a129d3eabfc",
   "metadata": {
    "tags": []
   },
   "source": [
    "#### 3) Re-reference"
   ]
  },
  {
   "cell_type": "code",
   "execution_count": 17,
   "id": "c4013fdc-b413-4075-88b7-7e8f759b328d",
   "metadata": {
    "tags": []
   },
   "outputs": [
    {
     "name": "stdout",
     "output_type": "stream",
     "text": [
      "EEG channel type selected for re-referencing\n",
      "Applying average reference.\n",
      "Applying a custom ('EEG',) reference.\n"
     ]
    },
    {
     "data": {
      "text/html": [
       "<table class=\"table table-hover table-striped table-sm table-responsive small\">\n",
       "    <tr>\n",
       "        <th>Measurement date</th>\n",
       "        \n",
       "        <td>February 22, 2019  14:39:19 GMT</td>\n",
       "        \n",
       "    </tr>\n",
       "    <tr>\n",
       "        <th>Experimenter</th>\n",
       "        \n",
       "        <td>Unknown</td>\n",
       "        \n",
       "    </tr>\n",
       "        <th>Participant</th>\n",
       "        \n",
       "        <td>Unknown</td>\n",
       "        \n",
       "    </tr>\n",
       "    <tr>\n",
       "        <th>Digitized points</th>\n",
       "        \n",
       "        <td>66 points</td>\n",
       "        \n",
       "    </tr>\n",
       "    <tr>\n",
       "        <th>Good channels</th>\n",
       "        <td>17 EEG</td>\n",
       "    </tr>\n",
       "    <tr>\n",
       "        <th>Bad channels</th>\n",
       "        <td>None</td>\n",
       "    </tr>\n",
       "    <tr>\n",
       "        <th>EOG channels</th>\n",
       "        <td>Not available</td>\n",
       "    </tr>\n",
       "    <tr>\n",
       "        <th>ECG channels</th>\n",
       "        <td>Not available</td>\n",
       "    \n",
       "    <tr>\n",
       "        <th>Sampling frequency</th>\n",
       "        <td>1000.00 Hz</td>\n",
       "    </tr>\n",
       "    \n",
       "    \n",
       "    <tr>\n",
       "        <th>Highpass</th>\n",
       "        <td>0.00 Hz</td>\n",
       "    </tr>\n",
       "    \n",
       "    \n",
       "    <tr>\n",
       "        <th>Lowpass</th>\n",
       "        <td>280.00 Hz</td>\n",
       "    </tr>\n",
       "    \n",
       "    \n",
       "    \n",
       "    <tr>\n",
       "        <th>Filenames</th>\n",
       "        <td>sub-01_task-rsvp_eeg.eeg</td>\n",
       "    </tr>\n",
       "    \n",
       "    <tr>\n",
       "        <th>Duration</th>\n",
       "        <td>00:50:36 (HH:MM:SS)</td>\n",
       "    </tr>\n",
       "</table>"
      ],
      "text/plain": [
       "<RawBrainVision | sub-01_task-rsvp_eeg.eeg, 17 x 3035740 (3035.7 s), ~393.8 MB, data loaded>"
      ]
     },
     "execution_count": 17,
     "metadata": {},
     "output_type": "execute_result"
    }
   ],
   "source": [
    "# Re-reference raw1 'average'\n",
    "raw1.set_eeg_reference()"
   ]
  },
  {
   "cell_type": "markdown",
   "id": "41cf2321-733d-4cfc-9a70-d30c1cbf8a43",
   "metadata": {
    "tags": []
   },
   "source": [
    "#### 4) Bandpass filter"
   ]
  },
  {
   "cell_type": "code",
   "execution_count": 18,
   "id": "342c2ee0-6b15-4511-a78f-e0018d655e17",
   "metadata": {
    "tags": []
   },
   "outputs": [
    {
     "name": "stdout",
     "output_type": "stream",
     "text": [
      "Filtering raw data in 1 contiguous segment\n",
      "Setting up band-pass filter from 0.1 - 1e+02 Hz\n",
      "\n",
      "FIR filter parameters\n",
      "---------------------\n",
      "Designing a one-pass, zero-phase, non-causal bandpass filter:\n",
      "- Windowed time-domain design (firwin) method\n",
      "- Hamming window with 0.0194 passband ripple and 53 dB stopband attenuation\n",
      "- Lower passband edge: 0.10\n",
      "- Lower transition bandwidth: 0.10 Hz (-6 dB cutoff frequency: 0.05 Hz)\n",
      "- Upper passband edge: 100.00 Hz\n",
      "- Upper transition bandwidth: 25.00 Hz (-6 dB cutoff frequency: 112.50 Hz)\n",
      "- Filter length: 33001 samples (33.001 s)\n",
      "\n"
     ]
    },
    {
     "name": "stderr",
     "output_type": "stream",
     "text": [
      "[Parallel(n_jobs=-1)]: Using backend LokyBackend with 8 concurrent workers.\n",
      "[Parallel(n_jobs=-1)]: Done  10 tasks      | elapsed:    6.3s\n",
      "[Parallel(n_jobs=-1)]: Done  14 out of  17 | elapsed:    6.8s remaining:    1.4s\n",
      "[Parallel(n_jobs=-1)]: Done  17 out of  17 | elapsed:    7.0s finished\n"
     ]
    },
    {
     "data": {
      "text/html": [
       "<table class=\"table table-hover table-striped table-sm table-responsive small\">\n",
       "    <tr>\n",
       "        <th>Measurement date</th>\n",
       "        \n",
       "        <td>February 22, 2019  14:39:19 GMT</td>\n",
       "        \n",
       "    </tr>\n",
       "    <tr>\n",
       "        <th>Experimenter</th>\n",
       "        \n",
       "        <td>Unknown</td>\n",
       "        \n",
       "    </tr>\n",
       "        <th>Participant</th>\n",
       "        \n",
       "        <td>Unknown</td>\n",
       "        \n",
       "    </tr>\n",
       "    <tr>\n",
       "        <th>Digitized points</th>\n",
       "        \n",
       "        <td>66 points</td>\n",
       "        \n",
       "    </tr>\n",
       "    <tr>\n",
       "        <th>Good channels</th>\n",
       "        <td>17 EEG</td>\n",
       "    </tr>\n",
       "    <tr>\n",
       "        <th>Bad channels</th>\n",
       "        <td>None</td>\n",
       "    </tr>\n",
       "    <tr>\n",
       "        <th>EOG channels</th>\n",
       "        <td>Not available</td>\n",
       "    </tr>\n",
       "    <tr>\n",
       "        <th>ECG channels</th>\n",
       "        <td>Not available</td>\n",
       "    \n",
       "    <tr>\n",
       "        <th>Sampling frequency</th>\n",
       "        <td>1000.00 Hz</td>\n",
       "    </tr>\n",
       "    \n",
       "    \n",
       "    <tr>\n",
       "        <th>Highpass</th>\n",
       "        <td>0.10 Hz</td>\n",
       "    </tr>\n",
       "    \n",
       "    \n",
       "    <tr>\n",
       "        <th>Lowpass</th>\n",
       "        <td>100.00 Hz</td>\n",
       "    </tr>\n",
       "    \n",
       "    \n",
       "    \n",
       "    <tr>\n",
       "        <th>Filenames</th>\n",
       "        <td>sub-01_task-rsvp_eeg.eeg</td>\n",
       "    </tr>\n",
       "    \n",
       "    <tr>\n",
       "        <th>Duration</th>\n",
       "        <td>00:50:36 (HH:MM:SS)</td>\n",
       "    </tr>\n",
       "</table>"
      ],
      "text/plain": [
       "<RawBrainVision | sub-01_task-rsvp_eeg.eeg, 17 x 3035740 (3035.7 s), ~393.8 MB, data loaded>"
      ]
     },
     "execution_count": 18,
     "metadata": {},
     "output_type": "execute_result"
    }
   ],
   "source": [
    "raw1.filter(l_freq=0.1, h_freq=100, n_jobs=-1)"
   ]
  },
  {
   "cell_type": "markdown",
   "id": "87800ad1-604e-4fe4-b1de-1c8f420a6feb",
   "metadata": {
    "tags": []
   },
   "source": [
    "#### 5) Epoching"
   ]
  },
  {
   "cell_type": "code",
   "execution_count": 19,
   "id": "e8efdd1d-63c1-4d2f-81a0-cd20fc325def",
   "metadata": {
    "tags": []
   },
   "outputs": [
    {
     "name": "stdout",
     "output_type": "stream",
     "text": [
      "Not setting metadata\n",
      "22248 matching events found\n",
      "Setting baseline interval to [-0.2, 0.0] s\n",
      "Applying baseline correction (mode: mean)\n",
      "0 projection items activated\n",
      "Using data from preloaded Raw for 22248 events and 1001 original time points ...\n",
      "0 bad epochs dropped\n"
     ]
    }
   ],
   "source": [
    "epochs = mne.Epochs(raw1, events, tmin=-.2, tmax=.8, baseline=(None,0), preload=True)\n",
    "del raw1"
   ]
  },
  {
   "cell_type": "markdown",
   "id": "4b1019fe-6d2c-402a-b9b7-9440e5d159a2",
   "metadata": {
    "tags": []
   },
   "source": [
    "#### 6) Resampling"
   ]
  },
  {
   "cell_type": "code",
   "execution_count": 20,
   "id": "323dc6d0-73a9-4349-948d-7ee7450af174",
   "metadata": {
    "tags": []
   },
   "outputs": [
    {
     "data": {
      "text/html": [
       "<table class=\"table table-hover table-striped table-sm table-responsive small\">\n",
       "    <tr>\n",
       "        <th>Measurement date</th>\n",
       "        \n",
       "        <td>February 22, 2019  14:39:19 GMT</td>\n",
       "        \n",
       "    </tr>\n",
       "    <tr>\n",
       "        <th>Experimenter</th>\n",
       "        \n",
       "        <td>Unknown</td>\n",
       "        \n",
       "    </tr>\n",
       "        <th>Participant</th>\n",
       "        \n",
       "        <td>Unknown</td>\n",
       "        \n",
       "    </tr>\n",
       "    <tr>\n",
       "        <th>Digitized points</th>\n",
       "        \n",
       "        <td>66 points</td>\n",
       "        \n",
       "    </tr>\n",
       "    <tr>\n",
       "        <th>Good channels</th>\n",
       "        <td>17 EEG</td>\n",
       "    </tr>\n",
       "    <tr>\n",
       "        <th>Bad channels</th>\n",
       "        <td>None</td>\n",
       "    </tr>\n",
       "    <tr>\n",
       "        <th>EOG channels</th>\n",
       "        <td>Not available</td>\n",
       "    </tr>\n",
       "    <tr>\n",
       "        <th>ECG channels</th>\n",
       "        <td>Not available</td>\n",
       "    \n",
       "    <tr>\n",
       "        <th>Sampling frequency</th>\n",
       "        <td>100.00 Hz</td>\n",
       "    </tr>\n",
       "    \n",
       "    \n",
       "    <tr>\n",
       "        <th>Highpass</th>\n",
       "        <td>0.10 Hz</td>\n",
       "    </tr>\n",
       "    \n",
       "    \n",
       "    <tr>\n",
       "        <th>Lowpass</th>\n",
       "        <td>50.00 Hz</td>\n",
       "    </tr>\n",
       "    \n",
       "    \n",
       "</table>"
      ],
      "text/plain": [
       "<Info | 9 non-empty values\n",
       " bads: []\n",
       " ch_names: Pz, P3, P7, O1, Oz, O2, P4, P8, P1, P5, PO7, PO3, POz, PO4, PO8, ...\n",
       " chs: 17 EEG\n",
       " custom_ref_applied: True\n",
       " dig: 66 items (3 Cardinal, 63 EEG)\n",
       " highpass: 0.1 Hz\n",
       " lowpass: 50.0 Hz\n",
       " meas_date: 2019-02-22 14:39:19 UTC\n",
       " nchan: 17\n",
       " projs: []\n",
       " sfreq: 100.0 Hz\n",
       ">"
      ]
     },
     "execution_count": 20,
     "metadata": {},
     "output_type": "execute_result"
    }
   ],
   "source": [
    "re_sfreq = 100\n",
    "epochs.resample(re_sfreq)\n",
    "# Check epochs info\n",
    "epochs.info"
   ]
  },
  {
   "cell_type": "markdown",
   "id": "cfea22ec-e1e4-4e62-99d2-2b9fff287dc5",
   "metadata": {
    "tags": []
   },
   "source": [
    "#### 7) Get epoched data and sort data according to images"
   ]
  },
  {
   "cell_type": "code",
   "execution_count": 21,
   "id": "aa6077ce-645d-4bba-8845-82adda5f3e91",
   "metadata": {
    "tags": []
   },
   "outputs": [
    {
     "name": "stdout",
     "output_type": "stream",
     "text": [
      "(22248, 17, 100)\n"
     ]
    }
   ],
   "source": [
    "epoched_data = epochs.get_data()\n",
    "print(epoched_data.shape)"
   ]
  },
  {
   "cell_type": "code",
   "execution_count": 22,
   "id": "f043b81d-7c91-4add-acc4-14acfb22f246",
   "metadata": {
    "tags": []
   },
   "outputs": [],
   "source": [
    "# THINGS EEG2 test images directory\n",
    "test_img_dir = os.path.join(project_dir,'eeg_dataset','wake_data',\n",
    "                             'THINGS_EEG2','image_set', 'test_images')\n",
    "# Create list of test images\n",
    "test_imgs = os.listdir(test_img_dir)"
   ]
  },
  {
   "cell_type": "code",
   "execution_count": 23,
   "id": "a7489a27-2508-4b75-9b93-1b7c711a83cd",
   "metadata": {
    "tags": []
   },
   "outputs": [
    {
     "name": "stdout",
     "output_type": "stream",
     "text": [
      "200\n"
     ]
    }
   ],
   "source": [
    "print(len(test_imgs))"
   ]
  },
  {
   "cell_type": "code",
   "execution_count": 24,
   "id": "373615df-2ece-4000-bb48-c92bf7a6183a",
   "metadata": {
    "tags": []
   },
   "outputs": [
    {
     "name": "stdout",
     "output_type": "stream",
     "text": [
      "(200, 17, 100)\n"
     ]
    }
   ],
   "source": [
    "# The test THINGS EEG1 data\n",
    "new_data = []\n",
    "# Iterate over test images\n",
    "for test_img in test_imgs:\n",
    "    # Get the indices of test image in THINGS EEG1 \n",
    "    indices = dftsv.index[dftsv['object'] == test_img[6:]]\n",
    "    # Get the data of test image in THINGS EEG1 \n",
    "    data = [epoched_data[i, :, :] for i in indices]\n",
    "    # Convert list to array\n",
    "    data = np.array(data)\n",
    "    # Average within the test image\n",
    "    data = np.mean(data, axis=0)\n",
    "    # Add the data to the test THINGS EEG1 data\n",
    "    new_data.append(data)\n",
    "    del data\n",
    "# Convert list to array\n",
    "new_data = np.array(new_data)\n",
    "print(new_data.shape)"
   ]
  },
  {
   "cell_type": "markdown",
   "id": "27ab43c1-7917-42f9-820b-638df68c2af6",
   "metadata": {
    "tags": []
   },
   "source": [
    "#### 8) Get channel names and times"
   ]
  },
  {
   "cell_type": "code",
   "execution_count": 25,
   "id": "4d77d305-1131-4072-8c7d-81f233d77903",
   "metadata": {
    "tags": []
   },
   "outputs": [],
   "source": [
    "ch_names1 = epochs.info['ch_names']\n",
    "times1 = epochs.times"
   ]
  },
  {
   "cell_type": "code",
   "execution_count": 26,
   "id": "8897774c-f9b3-4d03-9ad6-bdb470c5e18f",
   "metadata": {
    "tags": []
   },
   "outputs": [
    {
     "name": "stdout",
     "output_type": "stream",
     "text": [
      "['Pz', 'P3', 'P7', 'O1', 'Oz', 'O2', 'P4', 'P8', 'P1', 'P5', 'PO7', 'PO3', 'POz', 'PO4', 'PO8', 'P6', 'P2']\n"
     ]
    }
   ],
   "source": [
    "print(ch_names1)"
   ]
  },
  {
   "cell_type": "code",
   "execution_count": 27,
   "id": "c33082b6-a658-49b0-9aa5-0cf8659fba21",
   "metadata": {
    "tags": []
   },
   "outputs": [
    {
     "name": "stdout",
     "output_type": "stream",
     "text": [
      "[-0.2  -0.19 -0.18 -0.17 -0.16 -0.15 -0.14 -0.13 -0.12 -0.11 -0.1  -0.09\n",
      " -0.08 -0.07 -0.06 -0.05 -0.04 -0.03 -0.02 -0.01  0.    0.01  0.02  0.03\n",
      "  0.04  0.05  0.06  0.07  0.08  0.09  0.1   0.11  0.12  0.13  0.14  0.15\n",
      "  0.16  0.17  0.18  0.19  0.2   0.21  0.22  0.23  0.24  0.25  0.26  0.27\n",
      "  0.28  0.29  0.3   0.31  0.32  0.33  0.34  0.35  0.36  0.37  0.38  0.39\n",
      "  0.4   0.41  0.42  0.43  0.44  0.45  0.46  0.47  0.48  0.49  0.5   0.51\n",
      "  0.52  0.53  0.54  0.55  0.56  0.57  0.58  0.59  0.6   0.61  0.62  0.63\n",
      "  0.64  0.65  0.66  0.67  0.68  0.69  0.7   0.71  0.72  0.73  0.74  0.75\n",
      "  0.76  0.77  0.78  0.79]\n"
     ]
    }
   ],
   "source": [
    "print(times1)"
   ]
  },
  {
   "cell_type": "markdown",
   "id": "b6f80563-c56b-4a18-9514-3332bbc8d9e8",
   "metadata": {
    "tags": []
   },
   "source": [
    "### 3. Load THINGS EEG2 subject1 ses1 training raw data"
   ]
  },
  {
   "cell_type": "code",
   "execution_count": 28,
   "id": "cd058a5d-0152-4ae5-b2af-be9dd92e6cba",
   "metadata": {
    "tags": []
   },
   "outputs": [],
   "source": [
    "# Load THINGS EEG2 subject1 metadata\n",
    "TH2_dir = os.path.join(project_dir, 'eeg_dataset', 'wake_data',\n",
    "                       'THINGS_EEG2','raw_data','sub-01','ses-01','raw_eeg_training.npy')"
   ]
  },
  {
   "cell_type": "code",
   "execution_count": 29,
   "id": "647794b5-9637-4a25-bbd1-6be889cd6b53",
   "metadata": {
    "tags": []
   },
   "outputs": [
    {
     "name": "stdout",
     "output_type": "stream",
     "text": [
      "Creating RawArray with float64 data, n_channels=64, n_times=5450560\n",
      "    Range : 0 ... 5450559 =      0.000 ...  5450.559 secs\n",
      "Ready.\n"
     ]
    }
   ],
   "source": [
    "eeg_data = np.load(TH2_dir, allow_pickle=True).item()\n",
    "ch_names = eeg_data['ch_names']\n",
    "sfreq = eeg_data['sfreq']\n",
    "ch_types = eeg_data['ch_types']\n",
    "eeg_data = eeg_data['raw_eeg_data']\n",
    "# Convert to MNE raw format\n",
    "info = mne.create_info(ch_names, sfreq, ch_types)\n",
    "raw2 = mne.io.RawArray(eeg_data, info)"
   ]
  },
  {
   "cell_type": "code",
   "execution_count": 30,
   "id": "9340141b-b42b-4369-8b6e-50af90b37dd1",
   "metadata": {
    "tags": []
   },
   "outputs": [
    {
     "data": {
      "text/html": [
       "<table class=\"table table-hover table-striped table-sm table-responsive small\">\n",
       "    <tr>\n",
       "        <th>Measurement date</th>\n",
       "        \n",
       "        <td>Unknown</td>\n",
       "        \n",
       "    </tr>\n",
       "    <tr>\n",
       "        <th>Experimenter</th>\n",
       "        \n",
       "        <td>Unknown</td>\n",
       "        \n",
       "    </tr>\n",
       "        <th>Participant</th>\n",
       "        \n",
       "        <td>Unknown</td>\n",
       "        \n",
       "    </tr>\n",
       "    <tr>\n",
       "        <th>Digitized points</th>\n",
       "        \n",
       "        <td>Not available</td>\n",
       "        \n",
       "    </tr>\n",
       "    <tr>\n",
       "        <th>Good channels</th>\n",
       "        <td>63 EEG, 1 Stimulus</td>\n",
       "    </tr>\n",
       "    <tr>\n",
       "        <th>Bad channels</th>\n",
       "        <td>None</td>\n",
       "    </tr>\n",
       "    <tr>\n",
       "        <th>EOG channels</th>\n",
       "        <td>Not available</td>\n",
       "    </tr>\n",
       "    <tr>\n",
       "        <th>ECG channels</th>\n",
       "        <td>Not available</td>\n",
       "    \n",
       "    <tr>\n",
       "        <th>Sampling frequency</th>\n",
       "        <td>1000.00 Hz</td>\n",
       "    </tr>\n",
       "    \n",
       "    \n",
       "    <tr>\n",
       "        <th>Highpass</th>\n",
       "        <td>0.00 Hz</td>\n",
       "    </tr>\n",
       "    \n",
       "    \n",
       "    <tr>\n",
       "        <th>Lowpass</th>\n",
       "        <td>500.00 Hz</td>\n",
       "    </tr>\n",
       "    \n",
       "    \n",
       "</table>"
      ],
      "text/plain": [
       "<Info | 7 non-empty values\n",
       " bads: []\n",
       " ch_names: Fp1, F3, F7, FT9, FC5, FC1, C3, T7, TP9, CP5, CP1, Pz, P3, P7, ...\n",
       " chs: 63 EEG, 1 Stimulus\n",
       " custom_ref_applied: False\n",
       " highpass: 0.0 Hz\n",
       " lowpass: 500.0 Hz\n",
       " meas_date: unspecified\n",
       " nchan: 64\n",
       " projs: []\n",
       " sfreq: 1000.0 Hz\n",
       ">"
      ]
     },
     "execution_count": 30,
     "metadata": {},
     "output_type": "execute_result"
    }
   ],
   "source": [
    "raw2.info"
   ]
  },
  {
   "cell_type": "code",
   "execution_count": 31,
   "id": "778ab566-b890-4734-b88f-2904b2001100",
   "metadata": {
    "tags": []
   },
   "outputs": [
    {
     "name": "stdout",
     "output_type": "stream",
     "text": [
      "16800 events found\n",
      "Event IDs: [    1     2     3 ... 16529 16530 99999]\n",
      "[[  11446       0   11742]\n",
      " [  11646       0    8221]\n",
      " [  11845       0    5879]\n",
      " ...\n",
      " [5433522       0    2634]\n",
      " [5433722       0    5362]\n",
      " [5433921       0   12636]]\n"
     ]
    }
   ],
   "source": [
    "events = mne.find_events(raw2, stim_channel='stim')\n",
    "# Reject the target trials (event 99999)\n",
    "idx_target = np.where(events[:,2] == 99999)[0]\n",
    "events = np.delete(events, idx_target, 0)\n",
    "print(events)"
   ]
  },
  {
   "cell_type": "code",
   "execution_count": 32,
   "id": "a0f0f54e-bbf7-44e6-aa55-e606b9c2e00e",
   "metadata": {
    "tags": []
   },
   "outputs": [
    {
     "name": "stdout",
     "output_type": "stream",
     "text": [
      "NOTE: pick_channels() is a legacy function. New code should use inst.pick(...).\n"
     ]
    },
    {
     "data": {
      "text/html": [
       "<table class=\"table table-hover table-striped table-sm table-responsive small\">\n",
       "    <tr>\n",
       "        <th>Measurement date</th>\n",
       "        \n",
       "        <td>Unknown</td>\n",
       "        \n",
       "    </tr>\n",
       "    <tr>\n",
       "        <th>Experimenter</th>\n",
       "        \n",
       "        <td>Unknown</td>\n",
       "        \n",
       "    </tr>\n",
       "        <th>Participant</th>\n",
       "        \n",
       "        <td>Unknown</td>\n",
       "        \n",
       "    </tr>\n",
       "    <tr>\n",
       "        <th>Digitized points</th>\n",
       "        \n",
       "        <td>Not available</td>\n",
       "        \n",
       "    </tr>\n",
       "    <tr>\n",
       "        <th>Good channels</th>\n",
       "        <td>17 EEG</td>\n",
       "    </tr>\n",
       "    <tr>\n",
       "        <th>Bad channels</th>\n",
       "        <td>None</td>\n",
       "    </tr>\n",
       "    <tr>\n",
       "        <th>EOG channels</th>\n",
       "        <td>Not available</td>\n",
       "    </tr>\n",
       "    <tr>\n",
       "        <th>ECG channels</th>\n",
       "        <td>Not available</td>\n",
       "    \n",
       "    <tr>\n",
       "        <th>Sampling frequency</th>\n",
       "        <td>1000.00 Hz</td>\n",
       "    </tr>\n",
       "    \n",
       "    \n",
       "    <tr>\n",
       "        <th>Highpass</th>\n",
       "        <td>0.00 Hz</td>\n",
       "    </tr>\n",
       "    \n",
       "    \n",
       "    <tr>\n",
       "        <th>Lowpass</th>\n",
       "        <td>500.00 Hz</td>\n",
       "    </tr>\n",
       "    \n",
       "    \n",
       "    \n",
       "    <tr>\n",
       "        <th>Duration</th>\n",
       "        <td>01:30:51 (HH:MM:SS)</td>\n",
       "    </tr>\n",
       "</table>"
      ],
      "text/plain": [
       "<RawArray | 17 x 5450560 (5450.6 s), ~707.0 MB, data loaded>"
      ]
     },
     "execution_count": 32,
     "metadata": {},
     "output_type": "execute_result"
    }
   ],
   "source": [
    "# Select channels\n",
    "chan_idx = np.asarray(mne.pick_channels_regexp(raw2.info['ch_names'],\n",
    "    '^O *|^P *'))\n",
    "new_chans = [raw2.info['ch_names'][c] for c in chan_idx]\n",
    "raw2.pick_channels(new_chans)"
   ]
  },
  {
   "cell_type": "code",
   "execution_count": 33,
   "id": "02a33da3-1f47-4a77-ab39-147d8cb8c438",
   "metadata": {
    "tags": []
   },
   "outputs": [
    {
     "name": "stdout",
     "output_type": "stream",
     "text": [
      "Not setting metadata\n",
      "16710 matching events found\n",
      "Setting baseline interval to [-0.2, 0.0] s\n",
      "Applying baseline correction (mode: mean)\n",
      "0 projection items activated\n",
      "Using data from preloaded Raw for 16710 events and 1001 original time points ...\n",
      "0 bad epochs dropped\n"
     ]
    },
    {
     "data": {
      "text/html": [
       "<table class=\"table table-hover table-striped table-sm table-responsive small\">\n",
       "    <tr>\n",
       "        <th>Measurement date</th>\n",
       "        \n",
       "        <td>Unknown</td>\n",
       "        \n",
       "    </tr>\n",
       "    <tr>\n",
       "        <th>Experimenter</th>\n",
       "        \n",
       "        <td>Unknown</td>\n",
       "        \n",
       "    </tr>\n",
       "        <th>Participant</th>\n",
       "        \n",
       "        <td>Unknown</td>\n",
       "        \n",
       "    </tr>\n",
       "    <tr>\n",
       "        <th>Digitized points</th>\n",
       "        \n",
       "        <td>Not available</td>\n",
       "        \n",
       "    </tr>\n",
       "    <tr>\n",
       "        <th>Good channels</th>\n",
       "        <td>17 EEG</td>\n",
       "    </tr>\n",
       "    <tr>\n",
       "        <th>Bad channels</th>\n",
       "        <td>None</td>\n",
       "    </tr>\n",
       "    <tr>\n",
       "        <th>EOG channels</th>\n",
       "        <td>Not available</td>\n",
       "    </tr>\n",
       "    <tr>\n",
       "        <th>ECG channels</th>\n",
       "        <td>Not available</td>\n",
       "    \n",
       "    <tr>\n",
       "        <th>Sampling frequency</th>\n",
       "        <td>1000.00 Hz</td>\n",
       "    </tr>\n",
       "    \n",
       "    \n",
       "    <tr>\n",
       "        <th>Highpass</th>\n",
       "        <td>0.00 Hz</td>\n",
       "    </tr>\n",
       "    \n",
       "    \n",
       "    <tr>\n",
       "        <th>Lowpass</th>\n",
       "        <td>500.00 Hz</td>\n",
       "    </tr>\n",
       "    \n",
       "    \n",
       "</table>"
      ],
      "text/plain": [
       "<Info | 7 non-empty values\n",
       " bads: []\n",
       " ch_names: Pz, P3, P7, O1, Oz, O2, P4, P8, P1, P5, PO7, PO3, POz, PO4, PO8, ...\n",
       " chs: 17 EEG\n",
       " custom_ref_applied: False\n",
       " highpass: 0.0 Hz\n",
       " lowpass: 500.0 Hz\n",
       " meas_date: unspecified\n",
       " nchan: 17\n",
       " projs: []\n",
       " sfreq: 1000.0 Hz\n",
       ">"
      ]
     },
     "execution_count": 33,
     "metadata": {},
     "output_type": "execute_result"
    }
   ],
   "source": [
    "### Epoching, baseline correction and resampling ###\n",
    "epochs2 = mne.Epochs(raw2, events, tmin=-.2, tmax=.8, baseline=(None,0), \n",
    "                    preload=True)\n",
    "del raw2\n",
    "epochs2.info"
   ]
  },
  {
   "cell_type": "code",
   "execution_count": 34,
   "id": "3585c2e2-293c-4c90-a555-ef014f4c4c81",
   "metadata": {
    "tags": []
   },
   "outputs": [
    {
     "data": {
      "text/html": [
       "<table class=\"table table-hover table-striped table-sm table-responsive small\">\n",
       "    <tr>\n",
       "        <th>Measurement date</th>\n",
       "        \n",
       "        <td>Unknown</td>\n",
       "        \n",
       "    </tr>\n",
       "    <tr>\n",
       "        <th>Experimenter</th>\n",
       "        \n",
       "        <td>Unknown</td>\n",
       "        \n",
       "    </tr>\n",
       "        <th>Participant</th>\n",
       "        \n",
       "        <td>Unknown</td>\n",
       "        \n",
       "    </tr>\n",
       "    <tr>\n",
       "        <th>Digitized points</th>\n",
       "        \n",
       "        <td>Not available</td>\n",
       "        \n",
       "    </tr>\n",
       "    <tr>\n",
       "        <th>Good channels</th>\n",
       "        <td>17 EEG</td>\n",
       "    </tr>\n",
       "    <tr>\n",
       "        <th>Bad channels</th>\n",
       "        <td>None</td>\n",
       "    </tr>\n",
       "    <tr>\n",
       "        <th>EOG channels</th>\n",
       "        <td>Not available</td>\n",
       "    </tr>\n",
       "    <tr>\n",
       "        <th>ECG channels</th>\n",
       "        <td>Not available</td>\n",
       "    \n",
       "    <tr>\n",
       "        <th>Sampling frequency</th>\n",
       "        <td>100.00 Hz</td>\n",
       "    </tr>\n",
       "    \n",
       "    \n",
       "    <tr>\n",
       "        <th>Highpass</th>\n",
       "        <td>0.00 Hz</td>\n",
       "    </tr>\n",
       "    \n",
       "    \n",
       "    <tr>\n",
       "        <th>Lowpass</th>\n",
       "        <td>50.00 Hz</td>\n",
       "    </tr>\n",
       "    \n",
       "    \n",
       "</table>"
      ],
      "text/plain": [
       "<Info | 7 non-empty values\n",
       " bads: []\n",
       " ch_names: Pz, P3, P7, O1, Oz, O2, P4, P8, P1, P5, PO7, PO3, POz, PO4, PO8, ...\n",
       " chs: 17 EEG\n",
       " custom_ref_applied: False\n",
       " highpass: 0.0 Hz\n",
       " lowpass: 50.0 Hz\n",
       " meas_date: unspecified\n",
       " nchan: 17\n",
       " projs: []\n",
       " sfreq: 100.0 Hz\n",
       ">"
      ]
     },
     "execution_count": 34,
     "metadata": {},
     "output_type": "execute_result"
    }
   ],
   "source": [
    "epochs2.resample(re_sfreq)\n",
    "epochs2.info"
   ]
  },
  {
   "cell_type": "code",
   "execution_count": 35,
   "id": "6ab84d37-ce75-4194-9988-ca4f67984fec",
   "metadata": {
    "tags": []
   },
   "outputs": [],
   "source": [
    "ch_names2 = epochs2.info['ch_names']\n",
    "times2 = epochs2.times"
   ]
  },
  {
   "cell_type": "code",
   "execution_count": 36,
   "id": "09a8bdaa-f34b-41f5-a27b-674c09d965d1",
   "metadata": {
    "tags": []
   },
   "outputs": [
    {
     "name": "stdout",
     "output_type": "stream",
     "text": [
      "['Pz', 'P3', 'P7', 'O1', 'Oz', 'O2', 'P4', 'P8', 'P1', 'P5', 'PO7', 'PO3', 'POz', 'PO4', 'PO8', 'P6', 'P2']\n"
     ]
    }
   ],
   "source": [
    "print(ch_names2)"
   ]
  },
  {
   "cell_type": "code",
   "execution_count": 37,
   "id": "86539f04-aeca-431f-9777-a5ef3967c141",
   "metadata": {
    "tags": []
   },
   "outputs": [
    {
     "name": "stdout",
     "output_type": "stream",
     "text": [
      "[-0.2  -0.19 -0.18 -0.17 -0.16 -0.15 -0.14 -0.13 -0.12 -0.11 -0.1  -0.09\n",
      " -0.08 -0.07 -0.06 -0.05 -0.04 -0.03 -0.02 -0.01  0.    0.01  0.02  0.03\n",
      "  0.04  0.05  0.06  0.07  0.08  0.09  0.1   0.11  0.12  0.13  0.14  0.15\n",
      "  0.16  0.17  0.18  0.19  0.2   0.21  0.22  0.23  0.24  0.25  0.26  0.27\n",
      "  0.28  0.29  0.3   0.31  0.32  0.33  0.34  0.35  0.36  0.37  0.38  0.39\n",
      "  0.4   0.41  0.42  0.43  0.44  0.45  0.46  0.47  0.48  0.49  0.5   0.51\n",
      "  0.52  0.53  0.54  0.55  0.56  0.57  0.58  0.59  0.6   0.61  0.62  0.63\n",
      "  0.64  0.65  0.66  0.67  0.68  0.69  0.7   0.71  0.72  0.73  0.74  0.75\n",
      "  0.76  0.77  0.78  0.79]\n"
     ]
    }
   ],
   "source": [
    "print(times2)"
   ]
  },
  {
   "cell_type": "code",
   "execution_count": 38,
   "id": "51ed6f92-01cb-48d9-984a-4bf4425dcec1",
   "metadata": {
    "tags": []
   },
   "outputs": [
    {
     "name": "stdout",
     "output_type": "stream",
     "text": [
      "['Pz', 'P3', 'P7', 'O1', 'Oz', 'O2', 'P4', 'P8', 'P1', 'P5', 'PO7', 'PO3', 'POz', 'PO4', 'PO8', 'P6', 'P2']\n",
      "['Pz', 'P3', 'P7', 'O1', 'Oz', 'O2', 'P4', 'P8', 'P1', 'P5', 'PO7', 'PO3', 'POz', 'PO4', 'PO8', 'P6', 'P2']\n"
     ]
    }
   ],
   "source": [
    "# Check the channels sequence of THINGS1 and THINGS2\n",
    "print(ch_names1)\n",
    "print(ch_names2)"
   ]
  }
 ],
 "metadata": {
  "kernelspec": {
   "display_name": "Python 3 (ipykernel)",
   "language": "python",
   "name": "python3"
  },
  "language_info": {
   "codemirror_mode": {
    "name": "ipython",
    "version": 3
   },
   "file_extension": ".py",
   "mimetype": "text/x-python",
   "name": "python",
   "nbconvert_exporter": "python",
   "pygments_lexer": "ipython3",
   "version": "3.11.4"
  }
 },
 "nbformat": 4,
 "nbformat_minor": 5
}
