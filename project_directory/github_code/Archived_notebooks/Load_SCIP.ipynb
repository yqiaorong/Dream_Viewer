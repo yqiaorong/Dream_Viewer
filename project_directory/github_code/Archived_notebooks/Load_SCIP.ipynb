{
 "cells": [
  {
   "cell_type": "code",
   "execution_count": 3,
   "id": "b6ec4814-1b66-45e3-822e-99aa42590ac2",
   "metadata": {
    "tags": []
   },
   "outputs": [],
   "source": [
    "import os\n",
    "import mne\n",
    "import numpy as np"
   ]
  },
  {
   "cell_type": "markdown",
   "id": "b66ec98d-1555-4c75-8441-bfed65094e7f",
   "metadata": {},
   "source": [
    "### 1. Load SCIP preprocessed EEG data"
   ]
  },
  {
   "cell_type": "code",
   "execution_count": 57,
   "id": "5b728cd3-d082-4895-b2fa-2d5042da10d3",
   "metadata": {
    "tags": []
   },
   "outputs": [],
   "source": [
    "subj = '17'\n",
    "session = '1'"
   ]
  },
  {
   "cell_type": "code",
   "execution_count": 58,
   "id": "d35da52d-4aa2-4deb-be0b-dcb304d916b5",
   "metadata": {
    "tags": []
   },
   "outputs": [],
   "source": [
    "# Get SCIP directory\n",
    "project_dir = os.path.join('D:/','UG','Research','Dream_Lab','Dream_Decoding','project_directory')\n",
    "SCIP_dir = os.path.join(project_dir, 'eeg_dataset', 'wake_data', 'SCIP', 'derivatives',\n",
    "                        'preprocessed', 'sub-0'+subj, 'ses-0'+session, 'eeg')\n",
    "eeg_dir = os.path.join(SCIP_dir, 'sub'+subj+'_sess'+session+'_50_ica_eeg.fif')"
   ]
  },
  {
   "cell_type": "code",
   "execution_count": 59,
   "id": "3c6b97f0-e2a5-4e6a-a332-d1d9e697615e",
   "metadata": {
    "tags": []
   },
   "outputs": [
    {
     "name": "stdout",
     "output_type": "stream",
     "text": [
      "Opening raw data file D:/UG\\Research\\Dream_Lab\\Dream_Decoding\\project_directory\\eeg_dataset\\wake_data\\SCIP\\derivatives\\preprocessed\\sub-017\\ses-01\\eeg\\sub17_sess1_50_ica_eeg.fif...\n",
      "    Range : 0 ... 4326399 =      0.000 ...  4224.999 secs\n",
      "Ready.\n",
      "Opening raw data file D:\\UG\\Research\\Dream_Lab\\Dream_Decoding\\project_directory\\eeg_dataset\\wake_data\\SCIP\\derivatives\\preprocessed\\sub-017\\ses-01\\eeg\\sub17_sess1_50_ica_eeg-1.fif...\n",
      "    Range : 4326400 ... 4676796 =   4225.000 ...  4567.184 secs\n",
      "Ready.\n",
      "Reading 0 ... 4676796  =      0.000 ...  4567.184 secs...\n",
      "<Raw | sub17_sess1_50_ica_eeg.fif, 124 x 4676797 (4567.2 s), ~4.32 GB, data loaded>\n"
     ]
    }
   ],
   "source": [
    "# Load the eeg.fif file\n",
    "raw = mne.io.read_raw_fif(eeg_dir, preload=True) # creates two types, eeg and eog\n",
    "print(raw)"
   ]
  },
  {
   "cell_type": "code",
   "execution_count": 60,
   "id": "039f6aee-ccad-4109-9402-98c15bc5ef46",
   "metadata": {
    "tags": []
   },
   "outputs": [
    {
     "data": {
      "text/html": [
       "<table class=\"table table-hover table-striped table-sm table-responsive small\">\n",
       "    <tr>\n",
       "        <th>Measurement date</th>\n",
       "        \n",
       "        <td>Unknown</td>\n",
       "        \n",
       "    </tr>\n",
       "    <tr>\n",
       "        <th>Experimenter</th>\n",
       "        \n",
       "        <td>Unknown</td>\n",
       "        \n",
       "    </tr>\n",
       "        <th>Participant</th>\n",
       "        \n",
       "        <td>Unknown</td>\n",
       "        \n",
       "    </tr>\n",
       "    <tr>\n",
       "        <th>Digitized points</th>\n",
       "        \n",
       "        <td>124 points</td>\n",
       "        \n",
       "    </tr>\n",
       "    <tr>\n",
       "        <th>Good channels</th>\n",
       "        <td>124 EEG</td>\n",
       "    </tr>\n",
       "    <tr>\n",
       "        <th>Bad channels</th>\n",
       "        <td>None</td>\n",
       "    </tr>\n",
       "    <tr>\n",
       "        <th>EOG channels</th>\n",
       "        <td>Not available</td>\n",
       "    </tr>\n",
       "    <tr>\n",
       "        <th>ECG channels</th>\n",
       "        <td>Not available</td>\n",
       "    \n",
       "    <tr>\n",
       "        <th>Sampling frequency</th>\n",
       "        <td>1024.00 Hz</td>\n",
       "    </tr>\n",
       "    \n",
       "    \n",
       "    <tr>\n",
       "        <th>Highpass</th>\n",
       "        <td>1.00 Hz</td>\n",
       "    </tr>\n",
       "    \n",
       "    \n",
       "    <tr>\n",
       "        <th>Lowpass</th>\n",
       "        <td>512.00 Hz</td>\n",
       "    </tr>\n",
       "    \n",
       "    \n",
       "</table>"
      ],
      "text/plain": [
       "<Info | 11 non-empty values\n",
       " bads: []\n",
       " ch_names: Fp1, Fpz, Fp2, F7, F3, Fz, F4, F8, FC5, FC1, FC2, FC6, M1, T7, ...\n",
       " chs: 124 EEG\n",
       " custom_ref_applied: True\n",
       " dig: 124 items (124 EEG)\n",
       " file_id: 4 items (dict)\n",
       " highpass: 1.0 Hz\n",
       " lowpass: 512.0 Hz\n",
       " meas_date: unspecified\n",
       " meas_id: 4 items (dict)\n",
       " nchan: 124\n",
       " projs: []\n",
       " sfreq: 1024.0 Hz\n",
       ">"
      ]
     },
     "execution_count": 60,
     "metadata": {},
     "output_type": "execute_result"
    }
   ],
   "source": [
    "raw.info"
   ]
  },
  {
   "cell_type": "markdown",
   "id": "d45ac00e-60d5-4e06-95ca-cf3fe4383666",
   "metadata": {},
   "source": [
    "#### 1).Pick up occipital channels"
   ]
  },
  {
   "cell_type": "code",
   "execution_count": 61,
   "id": "d24356b5-4364-4e25-8d83-292530801cd1",
   "metadata": {
    "tags": []
   },
   "outputs": [
    {
     "name": "stdout",
     "output_type": "stream",
     "text": [
      "['Fp1', 'Fpz', 'Fp2', 'F7', 'F3', 'Fz', 'F4', 'F8', 'FC5', 'FC1', 'FC2', 'FC6', 'M1', 'T7', 'C3', 'Cz', 'C4', 'T8', 'M2', 'CP5', 'CP1', 'CP2', 'CP6', 'P7', 'P3', 'Pz', 'P4', 'P8', 'POz', 'O1', 'O2', 'AF7', 'AF3', 'AF4', 'AF8', 'F5', 'F1', 'F2', 'F6', 'FC3', 'FCz', 'FC4', 'C5', 'C1', 'C2', 'C6', 'CP3', 'CP4', 'P5', 'P1', 'P2', 'P6', 'PO3', 'PO4', 'FT7', 'FT8', 'TP7', 'TP8', 'PO7', 'PO8', 'FT9', 'FT10', 'TPP9h', 'TPP10h', 'PO9', 'PO10', 'P9', 'P10', 'AFF1', 'AFz', 'AFF2', 'FFC5h', 'FFC3h', 'FFC4h', 'FFC6h', 'FCC5h', 'FCC3h', 'FCC4h', 'FCC6h', 'CCP5h', 'CCP3h', 'CCP4h', 'CCP6h', 'CPP5h', 'CPP3h', 'CPP4h', 'CPP6h', 'PPO1', 'PPO2', 'I1', 'Iz', 'I2', 'AFp3h', 'AFp4h', 'AFF5h', 'AFF6h', 'FFT7h', 'FFC1h', 'FFC2h', 'FFT8h', 'FTT9h', 'FTT7h', 'FCC1h', 'FCC2h', 'FTT8h', 'FTT10h', 'TTP7h', 'CCP1h', 'CCP2h', 'TTP8h', 'TPP7h', 'CPP1h', 'CPP2h', 'TPP8h', 'PPO9h', 'PPO5h', 'PPO6h', 'PPO10h', 'POO9h', 'POO3h', 'POO4h', 'POO10h', 'OI1h', 'OI2h']\n"
     ]
    }
   ],
   "source": [
    "print(raw.info['ch_names'])"
   ]
  },
  {
   "cell_type": "code",
   "execution_count": 62,
   "id": "5c6675c5-9a90-40e4-b0c5-818eb1c390e6",
   "metadata": {
    "tags": []
   },
   "outputs": [
    {
     "name": "stdout",
     "output_type": "stream",
     "text": [
      "nonexist\n"
     ]
    }
   ],
   "source": [
    "if 'Oz' in raw.info['ch_names']:\n",
    "    print('exist')\n",
    "else:\n",
    "    print('nonexist')"
   ]
  },
  {
   "cell_type": "code",
   "execution_count": 13,
   "id": "7eae6b62-0fc5-43c3-8c32-1acdb32811fb",
   "metadata": {
    "tags": []
   },
   "outputs": [
    {
     "ename": "ValueError",
     "evalue": "Channel(s) ['Oz'] could not be picked, because they are not present in the info instance.",
     "output_type": "error",
     "traceback": [
      "\u001b[1;31m---------------------------------------------------------------------------\u001b[0m",
      "\u001b[1;31mValueError\u001b[0m                                Traceback (most recent call last)",
      "Cell \u001b[1;32mIn[13], line 3\u001b[0m\n\u001b[0;32m      1\u001b[0m \u001b[38;5;66;03m# Pick up occipital and parietal channels\u001b[39;00m\n\u001b[0;32m      2\u001b[0m OP_chan \u001b[38;5;241m=\u001b[39m [\u001b[38;5;124m'\u001b[39m\u001b[38;5;124mPz\u001b[39m\u001b[38;5;124m'\u001b[39m,\u001b[38;5;124m'\u001b[39m\u001b[38;5;124mP3\u001b[39m\u001b[38;5;124m'\u001b[39m,\u001b[38;5;124m'\u001b[39m\u001b[38;5;124mP7\u001b[39m\u001b[38;5;124m'\u001b[39m,\u001b[38;5;124m'\u001b[39m\u001b[38;5;124mO1\u001b[39m\u001b[38;5;124m'\u001b[39m,\u001b[38;5;124m'\u001b[39m\u001b[38;5;124mOz\u001b[39m\u001b[38;5;124m'\u001b[39m,\u001b[38;5;124m'\u001b[39m\u001b[38;5;124mO2\u001b[39m\u001b[38;5;124m'\u001b[39m,\u001b[38;5;124m'\u001b[39m\u001b[38;5;124mP4\u001b[39m\u001b[38;5;124m'\u001b[39m,\u001b[38;5;124m'\u001b[39m\u001b[38;5;124mP8\u001b[39m\u001b[38;5;124m'\u001b[39m,\u001b[38;5;124m'\u001b[39m\u001b[38;5;124mP1\u001b[39m\u001b[38;5;124m'\u001b[39m,\u001b[38;5;124m'\u001b[39m\u001b[38;5;124mP5\u001b[39m\u001b[38;5;124m'\u001b[39m,\u001b[38;5;124m'\u001b[39m\u001b[38;5;124mPO7\u001b[39m\u001b[38;5;124m'\u001b[39m,\u001b[38;5;124m'\u001b[39m\u001b[38;5;124mPO3\u001b[39m\u001b[38;5;124m'\u001b[39m,\u001b[38;5;124m'\u001b[39m\u001b[38;5;124mPOz\u001b[39m\u001b[38;5;124m'\u001b[39m,\u001b[38;5;124m'\u001b[39m\u001b[38;5;124mPO4\u001b[39m\u001b[38;5;124m'\u001b[39m,\u001b[38;5;124m'\u001b[39m\u001b[38;5;124mPO8\u001b[39m\u001b[38;5;124m'\u001b[39m,\u001b[38;5;124m'\u001b[39m\u001b[38;5;124mP6\u001b[39m\u001b[38;5;124m'\u001b[39m,\u001b[38;5;124m'\u001b[39m\u001b[38;5;124mP2\u001b[39m\u001b[38;5;124m'\u001b[39m]\n\u001b[1;32m----> 3\u001b[0m raw\u001b[38;5;241m.\u001b[39mpick(OP_chan)\n",
      "File \u001b[1;32m<decorator-gen-54>:12\u001b[0m, in \u001b[0;36mpick\u001b[1;34m(self, picks, exclude, verbose)\u001b[0m\n",
      "File \u001b[1;32mE:\\Programming\\Anaconda\\Anaconda3\\Lib\\site-packages\\mne\\channels\\channels.py:452\u001b[0m, in \u001b[0;36mUpdateChannelsMixin.pick\u001b[1;34m(self, picks, exclude, verbose)\u001b[0m\n\u001b[0;32m    433\u001b[0m \u001b[38;5;129m@verbose\u001b[39m\n\u001b[0;32m    434\u001b[0m \u001b[38;5;28;01mdef\u001b[39;00m \u001b[38;5;21mpick\u001b[39m(\u001b[38;5;28mself\u001b[39m, picks, exclude\u001b[38;5;241m=\u001b[39m(), \u001b[38;5;241m*\u001b[39m, verbose\u001b[38;5;241m=\u001b[39m\u001b[38;5;28;01mNone\u001b[39;00m):\n\u001b[0;32m    435\u001b[0m \u001b[38;5;250m    \u001b[39m\u001b[38;5;124;03m\"\"\"Pick a subset of channels.\u001b[39;00m\n\u001b[0;32m    436\u001b[0m \n\u001b[0;32m    437\u001b[0m \u001b[38;5;124;03m    Parameters\u001b[39;00m\n\u001b[1;32m   (...)\u001b[0m\n\u001b[0;32m    450\u001b[0m \u001b[38;5;124;03m        The modified instance.\u001b[39;00m\n\u001b[0;32m    451\u001b[0m \u001b[38;5;124;03m    \"\"\"\u001b[39;00m\n\u001b[1;32m--> 452\u001b[0m     picks \u001b[38;5;241m=\u001b[39m _picks_to_idx(\u001b[38;5;28mself\u001b[39m\u001b[38;5;241m.\u001b[39minfo, picks, \u001b[38;5;124m\"\u001b[39m\u001b[38;5;124mall\u001b[39m\u001b[38;5;124m\"\u001b[39m, exclude, allow_empty\u001b[38;5;241m=\u001b[39m\u001b[38;5;28;01mFalse\u001b[39;00m)\n\u001b[0;32m    453\u001b[0m     \u001b[38;5;28;01mreturn\u001b[39;00m \u001b[38;5;28mself\u001b[39m\u001b[38;5;241m.\u001b[39m_pick_drop_channels(picks)\n",
      "File \u001b[1;32mE:\\Programming\\Anaconda\\Anaconda3\\Lib\\site-packages\\mne\\io\\pick.py:1270\u001b[0m, in \u001b[0;36m_picks_to_idx\u001b[1;34m(info, picks, none, exclude, allow_empty, with_ref_meg, return_kind, picks_on)\u001b[0m\n\u001b[0;32m   1268\u001b[0m     \u001b[38;5;28;01mraise\u001b[39;00m \u001b[38;5;167;01mValueError\u001b[39;00m(\u001b[38;5;124m\"\u001b[39m\u001b[38;5;124mpicks must be 1D, got \u001b[39m\u001b[38;5;132;01m%s\u001b[39;00m\u001b[38;5;124mD\u001b[39m\u001b[38;5;124m\"\u001b[39m \u001b[38;5;241m%\u001b[39m (picks\u001b[38;5;241m.\u001b[39mndim,))\n\u001b[0;32m   1269\u001b[0m \u001b[38;5;28;01mif\u001b[39;00m picks\u001b[38;5;241m.\u001b[39mdtype\u001b[38;5;241m.\u001b[39mchar \u001b[38;5;129;01min\u001b[39;00m (\u001b[38;5;124m\"\u001b[39m\u001b[38;5;124mS\u001b[39m\u001b[38;5;124m\"\u001b[39m, \u001b[38;5;124m\"\u001b[39m\u001b[38;5;124mU\u001b[39m\u001b[38;5;124m\"\u001b[39m):\n\u001b[1;32m-> 1270\u001b[0m     picks \u001b[38;5;241m=\u001b[39m _picks_str_to_idx(\n\u001b[0;32m   1271\u001b[0m         info,\n\u001b[0;32m   1272\u001b[0m         picks,\n\u001b[0;32m   1273\u001b[0m         exclude,\n\u001b[0;32m   1274\u001b[0m         with_ref_meg,\n\u001b[0;32m   1275\u001b[0m         return_kind,\n\u001b[0;32m   1276\u001b[0m         extra_repr,\n\u001b[0;32m   1277\u001b[0m         allow_empty,\n\u001b[0;32m   1278\u001b[0m         orig_picks,\n\u001b[0;32m   1279\u001b[0m     )\n\u001b[0;32m   1280\u001b[0m     \u001b[38;5;28;01mif\u001b[39;00m return_kind:\n\u001b[0;32m   1281\u001b[0m         picked_ch_type_or_generic \u001b[38;5;241m=\u001b[39m picks[\u001b[38;5;241m1\u001b[39m]\n",
      "File \u001b[1;32mE:\\Programming\\Anaconda\\Anaconda3\\Lib\\site-packages\\mne\\io\\pick.py:1423\u001b[0m, in \u001b[0;36m_picks_str_to_idx\u001b[1;34m(info, picks, exclude, with_ref_meg, return_kind, extra_repr, allow_empty, orig_picks)\u001b[0m\n\u001b[0;32m   1421\u001b[0m picked_ch_type_or_generic \u001b[38;5;241m=\u001b[39m \u001b[38;5;129;01mnot\u001b[39;00m \u001b[38;5;28mlen\u001b[39m(picks_name)\n\u001b[0;32m   1422\u001b[0m \u001b[38;5;28;01mif\u001b[39;00m \u001b[38;5;28mlen\u001b[39m(bad_names) \u001b[38;5;241m>\u001b[39m \u001b[38;5;241m0\u001b[39m \u001b[38;5;129;01mand\u001b[39;00m \u001b[38;5;129;01mnot\u001b[39;00m picked_ch_type_or_generic:\n\u001b[1;32m-> 1423\u001b[0m     \u001b[38;5;28;01mraise\u001b[39;00m \u001b[38;5;167;01mValueError\u001b[39;00m(\n\u001b[0;32m   1424\u001b[0m         \u001b[38;5;124mf\u001b[39m\u001b[38;5;124m\"\u001b[39m\u001b[38;5;124mChannel(s) \u001b[39m\u001b[38;5;132;01m{\u001b[39;00mbad_names\u001b[38;5;132;01m}\u001b[39;00m\u001b[38;5;124m could not be picked, because \u001b[39m\u001b[38;5;124m\"\u001b[39m\n\u001b[0;32m   1425\u001b[0m         \u001b[38;5;124m\"\u001b[39m\u001b[38;5;124mthey are not present in the info instance.\u001b[39m\u001b[38;5;124m\"\u001b[39m\n\u001b[0;32m   1426\u001b[0m     )\n\u001b[0;32m   1428\u001b[0m \u001b[38;5;28;01mif\u001b[39;00m return_kind:\n\u001b[0;32m   1429\u001b[0m     \u001b[38;5;28;01mreturn\u001b[39;00m picks, picked_ch_type_or_generic\n",
      "\u001b[1;31mValueError\u001b[0m: Channel(s) ['Oz'] could not be picked, because they are not present in the info instance."
     ]
    }
   ],
   "source": [
    "# Pick up occipital and parietal channels\n",
    "OP_chan = ['Pz','P3','P7','O1','Oz','O2','P4','P8','P1','P5','PO7','PO3','POz','PO4','PO8','P6','P2']\n",
    "raw.pick(OP_chan)"
   ]
  },
  {
   "cell_type": "code",
   "execution_count": null,
   "id": "5244754e-3b57-465f-8046-f7e202c8ff79",
   "metadata": {},
   "outputs": [],
   "source": []
  }
 ],
 "metadata": {
  "kernelspec": {
   "display_name": "Python 3 (ipykernel)",
   "language": "python",
   "name": "python3"
  },
  "language_info": {
   "codemirror_mode": {
    "name": "ipython",
    "version": 3
   },
   "file_extension": ".py",
   "mimetype": "text/x-python",
   "name": "python",
   "nbconvert_exporter": "python",
   "pygments_lexer": "ipython3",
   "version": "3.11.4"
  }
 },
 "nbformat": 4,
 "nbformat_minor": 5
}
