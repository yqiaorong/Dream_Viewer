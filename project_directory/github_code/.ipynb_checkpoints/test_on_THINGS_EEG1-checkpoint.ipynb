{
 "cells": [
  {
   "cell_type": "markdown",
   "id": "f744089e-7f9f-4284-bc77-42aa0f067973",
   "metadata": {
    "tags": []
   },
   "source": [
    "# Training the model on THINGS EEG2 and testing the model on THINGS EEG1\n",
    "\n",
    "The main objective for this notebook is to \n",
    "\n",
    "1). build the model by using \n",
    "\n",
    "* THINGS EEG2 training image feature maps (X train) \n",
    "\n",
    "* THINGS EEG2 training real EEG data (Y train)\n",
    "\n",
    "2). test the model by using\n",
    "\n",
    "* THINGS EEG1 test image feature maps (X test)\n",
    "\n",
    "to predict\n",
    "\n",
    "* THINGS EEG1 test EEG data (Y pred)\n",
    "\n",
    "3). correlate with\n",
    "\n",
    "* THINGS EEG1 test real EEG data (Y test)"
   ]
  },
  {
   "cell_type": "markdown",
   "id": "d3eb273c-6810-435d-97c3-6dcd11f4c80d",
   "metadata": {},
   "source": [
    "## Section 1: To select THINGS EEG test images"
   ]
  },
  {
   "cell_type": "code",
   "execution_count": 1,
   "id": "5143cf17-9bdf-4bb8-bd7a-dd9284d1f8d2",
   "metadata": {
    "tags": []
   },
   "outputs": [],
   "source": [
    "import os\n",
    "import pandas as pd"
   ]
  },
  {
   "cell_type": "code",
   "execution_count": 7,
   "id": "96d3761e-c42c-4388-b187-6fe1ddeabb95",
   "metadata": {
    "tags": []
   },
   "outputs": [],
   "source": [
    "# Load THINGS EEG1 subject1 metadata\n",
    "project_dir = os.path.join('D:/','UG','Research','Dream_Lab','Dream_Decoding','project_directory')\n",
    "TH1_subj1_dir = os.path.join(project_dir, 'eeg_dataset','wake_data','THINGS_EEG1','sub-01')\n",
    "TH1_subj1_meta = pd.read_csv(os.path.join(TH1_subj1_dir, 'sub-01_task-rsvp_events.csv'))"
   ]
  },
  {
   "cell_type": "code",
   "execution_count": 9,
   "id": "768dfac3-4d7a-4b03-b33c-46b62fe7d722",
   "metadata": {
    "tags": []
   },
   "outputs": [
    {
     "data": {
      "text/plain": [
       "Index(['eventnumber', 'objectnumber', 'object', 'sequencenumber',\n",
       "       'presentationnumber', 'blocksequencenumber', 'withinsequencenumber',\n",
       "       'stimnumber', 'stim', 'istarget', 'stimname', 'response', 'rt',\n",
       "       'correct', 'time_stimon', 'time_stimoff', 'stimdur'],\n",
       "      dtype='object')"
      ]
     },
     "execution_count": 9,
     "metadata": {},
     "output_type": "execute_result"
    }
   ],
   "source": [
    "# Load the column names of metadata\n",
    "TH1_subj1_meta.columns"
   ]
  },
  {
   "cell_type": "code",
   "execution_count": 17,
   "id": "c96e4368-29ab-4724-856e-397d9f97d706",
   "metadata": {
    "tags": []
   },
   "outputs": [
    {
     "name": "stdout",
     "output_type": "stream",
     "text": [
      "Loading sub-01_task-rsvp_eeg.eeg\n",
      "Reading header from D:\\UG\\Research\\Dream_Lab\\Dream_Decoding\\project_directory\\eeg_dataset\\wake_data\\THINGS_EEG1\\sub-01\\sub-01_task-rsvp_eeg.eeg\n"
     ]
    },
    {
     "ename": "UnicodeDecodeError",
     "evalue": "'ascii' codec can't decode byte 0xc8 in position 3: ordinal not in range(128)",
     "output_type": "error",
     "traceback": [
      "\u001b[1;31m---------------------------------------------------------------------------\u001b[0m",
      "\u001b[1;31mUnicodeDecodeError\u001b[0m                        Traceback (most recent call last)",
      "Cell \u001b[1;32mIn[17], line 3\u001b[0m\n\u001b[0;32m      1\u001b[0m \u001b[38;5;28;01mimport\u001b[39;00m \u001b[38;5;21;01mmne\u001b[39;00m\n\u001b[0;32m      2\u001b[0m \u001b[38;5;66;03m# Load THINGS EEG1 subject1 raw eeg data\u001b[39;00m\n\u001b[1;32m----> 3\u001b[0m TH1_subj1_EEG \u001b[38;5;241m=\u001b[39m mne\u001b[38;5;241m.\u001b[39mio\u001b[38;5;241m.\u001b[39mread_raw_nihon(os\u001b[38;5;241m.\u001b[39mpath\u001b[38;5;241m.\u001b[39mjoin(TH1_subj1_dir, \u001b[38;5;124m'\u001b[39m\u001b[38;5;124msub-01_task-rsvp_eeg.eeg\u001b[39m\u001b[38;5;124m'\u001b[39m))\n",
      "File \u001b[1;32mE:\\Programming\\Anaconda\\Anaconda3\\Lib\\site-packages\\mne\\io\\nihon\\nihon.py:47\u001b[0m, in \u001b[0;36mread_raw_nihon\u001b[1;34m(fname, preload, verbose)\u001b[0m\n\u001b[0;32m     25\u001b[0m \u001b[38;5;129m@fill_doc\u001b[39m\n\u001b[0;32m     26\u001b[0m \u001b[38;5;28;01mdef\u001b[39;00m \u001b[38;5;21mread_raw_nihon\u001b[39m(fname, preload\u001b[38;5;241m=\u001b[39m\u001b[38;5;28;01mFalse\u001b[39;00m, verbose\u001b[38;5;241m=\u001b[39m\u001b[38;5;28;01mNone\u001b[39;00m):\n\u001b[0;32m     27\u001b[0m \u001b[38;5;250m    \u001b[39m\u001b[38;5;124;03m\"\"\"Reader for an Nihon Kohden EEG file.\u001b[39;00m\n\u001b[0;32m     28\u001b[0m \n\u001b[0;32m     29\u001b[0m \u001b[38;5;124;03m    Parameters\u001b[39;00m\n\u001b[1;32m   (...)\u001b[0m\n\u001b[0;32m     45\u001b[0m \u001b[38;5;124;03m    mne.io.Raw : Documentation of attributes and methods of RawNihon.\u001b[39;00m\n\u001b[0;32m     46\u001b[0m \u001b[38;5;124;03m    \"\"\"\u001b[39;00m\n\u001b[1;32m---> 47\u001b[0m     \u001b[38;5;28;01mreturn\u001b[39;00m RawNihon(fname, preload, verbose)\n",
      "File \u001b[1;32m<decorator-gen-304>:12\u001b[0m, in \u001b[0;36m__init__\u001b[1;34m(self, fname, preload, verbose)\u001b[0m\n",
      "File \u001b[1;32mE:\\Programming\\Anaconda\\Anaconda3\\Lib\\site-packages\\mne\\io\\nihon\\nihon.py:387\u001b[0m, in \u001b[0;36mRawNihon.__init__\u001b[1;34m(self, fname, preload, verbose)\u001b[0m\n\u001b[0;32m    384\u001b[0m data_name \u001b[38;5;241m=\u001b[39m fname\u001b[38;5;241m.\u001b[39mname\n\u001b[0;32m    385\u001b[0m logger\u001b[38;5;241m.\u001b[39minfo(\u001b[38;5;124m\"\u001b[39m\u001b[38;5;124mLoading \u001b[39m\u001b[38;5;132;01m%s\u001b[39;00m\u001b[38;5;124m\"\u001b[39m \u001b[38;5;241m%\u001b[39m data_name)\n\u001b[1;32m--> 387\u001b[0m header \u001b[38;5;241m=\u001b[39m _read_nihon_header(fname)\n\u001b[0;32m    388\u001b[0m metadata \u001b[38;5;241m=\u001b[39m _read_nihon_metadata(fname)\n\u001b[0;32m    390\u001b[0m \u001b[38;5;66;03m# n_chan = len(header['ch_names']) + 1\u001b[39;00m\n",
      "File \u001b[1;32mE:\\Programming\\Anaconda\\Anaconda3\\Lib\\site-packages\\mne\\io\\nihon\\nihon.py:172\u001b[0m, in \u001b[0;36m_read_nihon_header\u001b[1;34m(fname)\u001b[0m\n\u001b[0;32m    170\u001b[0m logger\u001b[38;5;241m.\u001b[39minfo(\u001b[38;5;124mf\u001b[39m\u001b[38;5;124m\"\u001b[39m\u001b[38;5;124mReading header from \u001b[39m\u001b[38;5;132;01m{\u001b[39;00mfname\u001b[38;5;132;01m}\u001b[39;00m\u001b[38;5;124m\"\u001b[39m)\n\u001b[0;32m    171\u001b[0m \u001b[38;5;28;01mwith\u001b[39;00m \u001b[38;5;28mopen\u001b[39m(fname, \u001b[38;5;124m\"\u001b[39m\u001b[38;5;124mr\u001b[39m\u001b[38;5;124m\"\u001b[39m) \u001b[38;5;28;01mas\u001b[39;00m fid:\n\u001b[1;32m--> 172\u001b[0m     version \u001b[38;5;241m=\u001b[39m np\u001b[38;5;241m.\u001b[39mfromfile(fid, \u001b[38;5;124m\"\u001b[39m\u001b[38;5;124m|S16\u001b[39m\u001b[38;5;124m\"\u001b[39m, \u001b[38;5;241m1\u001b[39m)\u001b[38;5;241m.\u001b[39mastype(\u001b[38;5;124m\"\u001b[39m\u001b[38;5;124mU16\u001b[39m\u001b[38;5;124m\"\u001b[39m)[\u001b[38;5;241m0\u001b[39m]\n\u001b[0;32m    173\u001b[0m     \u001b[38;5;28;01mif\u001b[39;00m version \u001b[38;5;129;01mnot\u001b[39;00m \u001b[38;5;129;01min\u001b[39;00m _valid_headers:\n\u001b[0;32m    174\u001b[0m         \u001b[38;5;28;01mraise\u001b[39;00m \u001b[38;5;167;01mValueError\u001b[39;00m(\u001b[38;5;124m\"\u001b[39m\u001b[38;5;124mNot a valid Nihon Kohden EEG file (\u001b[39m\u001b[38;5;132;01m{}\u001b[39;00m\u001b[38;5;124m)\u001b[39m\u001b[38;5;124m\"\u001b[39m\u001b[38;5;241m.\u001b[39mformat(version))\n",
      "\u001b[1;31mUnicodeDecodeError\u001b[0m: 'ascii' codec can't decode byte 0xc8 in position 3: ordinal not in range(128)"
     ]
    }
   ],
   "source": [
    "import mne\n",
    "# Load THINGS EEG1 subject1 raw eeg data\n",
    "TH1_subj1_EEG = mne.io.read_raw(os.path.join(TH1_subj1_dir, 'sub-01_task-rsvp_eeg.eeg'))"
   ]
  },
  {
   "cell_type": "code",
   "execution_count": null,
   "id": "f9c6c53e-ce2e-4c35-b040-d6fb2d03a34b",
   "metadata": {},
   "outputs": [],
   "source": []
  }
 ],
 "metadata": {
  "kernelspec": {
   "display_name": "Python 3 (ipykernel)",
   "language": "python",
   "name": "python3"
  },
  "language_info": {
   "codemirror_mode": {
    "name": "ipython",
    "version": 3
   },
   "file_extension": ".py",
   "mimetype": "text/x-python",
   "name": "python",
   "nbconvert_exporter": "python",
   "pygments_lexer": "ipython3",
   "version": "3.11.4"
  }
 },
 "nbformat": 4,
 "nbformat_minor": 5
}
